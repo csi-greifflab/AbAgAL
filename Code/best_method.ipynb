{
 "cells": [
  {
   "cell_type": "code",
   "execution_count": 1,
   "id": "415d496d-843d-47d5-b049-f1954eee3b83",
   "metadata": {},
   "outputs": [],
   "source": [
    "import pandas as pd\n",
    "import os\n",
    "import matplotlib.pyplot as plt\n",
    "import seaborn as sns\n",
    "\n",
    "input_dir = '../Results/Data/'\n",
    "\n",
    "df1 = pd.read_csv(input_dir+'run_conf_0.5.tsv', sep='\\t')\n",
    "df2 = pd.read_csv(input_dir+'run_grad_0.5.tsv', sep='\\t')\n",
    "df3 = pd.read_csv(input_dir+'run_grad01_0.5.tsv', sep='\\t')\n",
    "df4 = pd.read_csv(input_dir+'run_gradinput_0.5.tsv', sep='\\t')\n",
    "df5 = pd.read_csv(input_dir+'run_gradmodel_0.5.tsv', sep='\\t')\n",
    "df6 = pd.read_csv(input_dir+'run_qbc_random_0.5.tsv', sep='\\t')\n",
    "df7 = pd.read_csv(input_dir+'run_hamming_align_0.5.tsv', sep='\\t')\n",
    "\n",
    "frames = [df1, df2, df3, df4, df5, df6, df7]\n",
    "result = pd.concat(frames)\n",
    "\n",
    "result['type'] = result['type'].replace({\n",
    "    'random': 'Random',\n",
    "    'gradient2_max': 'Gradient to input (max)',\n",
    "    'gradient2_av': 'Gradient to input (average)',\n",
    "    'gradient3_max': 'Gradient to model (max)',\n",
    "    'gradient3_av': 'Gradient to model (average)',\n",
    "    'gradient_confounding_max': 'Gradient conf. labels (max)',\n",
    "    'gradient_confounding_av': 'Gradient conf. labels (average)',\n",
    "    'gradient_01': 'Gradient 0-1 (max)',\n",
    "    'gradient_0': 'Gradient 0-1 (average)',\n",
    "    'gradient_max': 'Gradient on last layer (max)',\n",
    "    'gradient_av': 'Gradient on last layer (average)',\n",
    "    'qbc': 'QBC',\n",
    "    'alignments': 'Alignments average distance',\n",
    "    'hamming': 'Hamming average distance',\n",
    "    'hamming_min': 'Hamming min distance'\n",
    "})\n",
    "\n",
    "result2 = result.reset_index(drop=True)\n",
    "result3 = result2[result2['type'] == 'Random']"
   ]
  },
  {
   "cell_type": "code",
   "execution_count": 2,
   "id": "2d52d08b-0a1f-49f7-af8c-ed7162096408",
   "metadata": {},
   "outputs": [],
   "source": [
    "result4 = result2[['type', 'roc_aucs_test', 'ags_number']].groupby(by=['type', 'ags_number'], as_index=False).mean()"
   ]
  },
  {
   "cell_type": "code",
   "execution_count": 3,
   "id": "ee0f74f7-14d8-42a9-86db-53b461364122",
   "metadata": {},
   "outputs": [],
   "source": [
    "result4 = result4[result4['type'].isin(['Hamming average distance', 'Random'])]\n",
    "result_H = result4[result4['type'].isin(['Hamming average distance'])]\n",
    "result_R = result4[result4['type'].isin(['Random'])]\n",
    "\n",
    "l1 = list(result_H.roc_aucs_test)\n",
    "\n",
    "r = []\n",
    "r2 = []\n",
    "for l2 in l1:\n",
    "    x1 = result_H[result_H.roc_aucs_test==l2].ags_number.mean()\n",
    "    x2 = result_R[result_R.roc_aucs_test<=l2].ags_number.max()\n",
    "    r.append((x2-x1)/x2)\n",
    "    r2.append(x2-x1)"
   ]
  },
  {
   "cell_type": "code",
   "execution_count": 4,
   "id": "b1534e19-4074-43cb-bc9c-11b49dc31361",
   "metadata": {},
   "outputs": [
    {
     "name": "stdout",
     "output_type": "stream",
     "text": [
      "35 54 19 0.35185185185185186\n",
      "66 94 28 0.2978723404255319\n"
     ]
    }
   ],
   "source": [
    "\n",
    "s1 = []\n",
    "s2 = []\n",
    "for l2 in l1:\n",
    "    x1 = result_H[result_H.roc_aucs_test==l2].ags_number.mean()\n",
    "    x2 = result_R[result_R.roc_aucs_test<=l2].ags_number.max()\n",
    "    if (x2-x1)/x2==max(r):\n",
    "        print(int(x1), x2, int(x2-x1), (x2-x1)/x2)\n",
    "        s1 += [int(x1), int(x2)]\n",
    "    if x2-x1==max(r2):\n",
    "        print(int(x1), x2, int(x2-x1), (x2-x1)/x2)\n",
    "        s2 += [int(x1), int(x2)]\n"
   ]
  },
  {
   "cell_type": "code",
   "execution_count": 5,
   "id": "bed3e34c-4347-4617-94a5-46a99b7c477e",
   "metadata": {},
   "outputs": [
    {
     "name": "stdout",
     "output_type": "stream",
     "text": [
      "                          type  ags_number  roc_aucs_test\n",
      "1020  Hamming average distance          35       0.848817\n",
      "1039  Hamming average distance          54       0.868628\n",
      "1290                    Random          35       0.817796\n",
      "1309                    Random          54       0.847747\n",
      "\n",
      "                          type  ags_number  roc_aucs_test\n",
      "1051  Hamming average distance          66       0.876986\n",
      "1079  Hamming average distance          94       0.878030\n",
      "1321                    Random          66       0.862276\n",
      "1349                    Random          94       0.876739\n"
     ]
    }
   ],
   "source": [
    "print(result4[result4.ags_number.isin(s1)])\n",
    "print()\n",
    "print(result4[result4.ags_number.isin(s2)])"
   ]
  }
 ],
 "metadata": {
  "kernelspec": {
   "display_name": "Python 3 (ipykernel)",
   "language": "python",
   "name": "python3"
  },
  "language_info": {
   "codemirror_mode": {
    "name": "ipython",
    "version": 3
   },
   "file_extension": ".py",
   "mimetype": "text/x-python",
   "name": "python",
   "nbconvert_exporter": "python",
   "pygments_lexer": "ipython3",
   "version": "3.11.6"
  }
 },
 "nbformat": 4,
 "nbformat_minor": 5
}
